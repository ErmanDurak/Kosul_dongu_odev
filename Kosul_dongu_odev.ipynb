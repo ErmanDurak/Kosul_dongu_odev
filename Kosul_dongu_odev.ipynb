{
  "cells": [
    {
      "cell_type": "markdown",
      "id": "409f0f4a",
      "metadata": {
        "id": "409f0f4a"
      },
      "source": [
        "**Ödev-1:** Kullanıcıdan maaş bilgisini istenir ve bu bilgiye göre maaşından ne kadar vergi kesileceğini hesaplanır. Kullanıcının geliri;\n",
        "\n",
        "1. 10000 ve altındaysa maaşından %5 kesinti olur.\n",
        "2. 25000 ve altındaysa maaşından %10 kesinti olur.\n",
        "3. 45000 ve altındaysa maaşından %25 kesinti olur.\n",
        "4. Diğer koşullarda %30 kesinti olur.\n",
        "\n",
        "Bu durumlara göre kullanıcının yeni maaşı yazdırılır."
      ]
    },
    {
      "cell_type": "code",
      "execution_count": 7,
      "id": "5246e510",
      "metadata": {
        "id": "5246e510",
        "outputId": "76991f8c-2578-4aba-b75e-900a80fc9f28",
        "colab": {
          "base_uri": "https://localhost:8080/"
        }
      },
      "outputs": [
        {
          "output_type": "stream",
          "name": "stdout",
          "text": [
            "Maaşınızı giriniz: 100000\n",
            "vergi kesintili maaş:  70000.0\n"
          ]
        }
      ],
      "source": [
        "maas = int(input(\"Maaşınızı giriniz: \"))\n",
        "\n",
        "if maas <= 10000:\n",
        "  maas = maas - (maas * 0.05)\n",
        "  print(\"vergi kesintili maaş: \", maas)\n",
        "\n",
        "elif maas <= 25000:\n",
        "  maas = maas - (maas * 0.1)\n",
        "  print(\"vergi kesintili maaş: \", maas)\n",
        "\n",
        "elif maas <= 45000:\n",
        "  maas = maas - (maas * 0.25)\n",
        "  print(\"vergi kesintili maaş: \", maas)\n",
        "\n",
        "else:\n",
        "  maas = maas - (maas * 0.3)\n",
        "  print(\"vergi kesintili maaş: \", maas)\n",
        "\n"
      ]
    },
    {
      "cell_type": "markdown",
      "id": "f5fe8798",
      "metadata": {
        "id": "f5fe8798"
      },
      "source": [
        "**Ödev-2:** Kullanıcıdan kullanıcı adı ve şifre oluşturmasını istenir. Şifrenin uzunluğu altı haneye ulaşmışsa hesabınız oluşturuldu mesajı alınır, altı haneden azsa altı haneli şifre oluşturması gerektiğinin mesajı alınır. *(Sadece koşul kullanılması yeterli.)*"
      ]
    },
    {
      "cell_type": "code",
      "execution_count": 9,
      "id": "6acffe57",
      "metadata": {
        "id": "6acffe57",
        "outputId": "fcb52ce2-6f3b-40d6-fb34-3fe3c4ff28ed",
        "colab": {
          "base_uri": "https://localhost:8080/"
        }
      },
      "outputs": [
        {
          "output_type": "stream",
          "name": "stdout",
          "text": [
            "Kullanıcı adı giriniz: erman\n",
            "Şifre giriniz: erman1\n",
            "hesabınız oluşturuldu\n"
          ]
        }
      ],
      "source": [
        "kullanıcıAdı = input(\"Kullanıcı adı giriniz: \")\n",
        "sifre = input(\"Şifre giriniz: \")\n",
        "\n",
        "if len(sifre) >= 6:\n",
        "  print(\"hesabınız oluşturuldu\")\n",
        "else:\n",
        "  print(\"Lütfen en az 6 haneli bir şifre giriniz\")\n"
      ]
    },
    {
      "cell_type": "code",
      "source": [],
      "metadata": {
        "id": "gsQlWcq1kv-Y"
      },
      "id": "gsQlWcq1kv-Y",
      "execution_count": null,
      "outputs": []
    },
    {
      "cell_type": "markdown",
      "id": "aaccf11a",
      "metadata": {
        "id": "aaccf11a"
      },
      "source": [
        "**Ödev-3:** Bir önceki örnek geliştirilir.\n",
        "\n",
        "1. Kullanıcı girdiği şifre 5 ve 10 hane arasında olmak zorunda.\n",
        "2. Eğer bu koşula uyuyorsa \"Hesabınız oluşturuldu.\" mesajı alır.\n",
        "3. Koşulu sağlamıyorsa \"Lütfen girdiniz şifre 5 haneden az 10 haneden fazla olmasın!\" uyarısı alır.\n",
        "4. Bunu oluştururken kullanıcı istediğimiz şartlarda şifre oluşturana kadar sormaya devam eder"
      ]
    },
    {
      "cell_type": "code",
      "execution_count": 13,
      "id": "039e50dc",
      "metadata": {
        "id": "039e50dc",
        "outputId": "50e158d5-f259-46d9-dd97-b1c9a2c75b39",
        "colab": {
          "base_uri": "https://localhost:8080/"
        }
      },
      "outputs": [
        {
          "output_type": "stream",
          "name": "stdout",
          "text": [
            "Şifrenizi giriniz: 1234\n",
            "Lütfen girdiğiniz şifre 5 haneden az 10 haneden fazla olmasın!\n",
            "Şifrenizi giriniz: 123456789101112\n",
            "Lütfen girdiğiniz şifre 5 haneden az 10 haneden fazla olmasın!\n",
            "Şifrenizi giriniz: 1234567\n",
            "Hesabınız oluşturuldu\n"
          ]
        }
      ],
      "source": [
        "sifre = input(\"Şifrenizi giriniz: \")\n",
        "\n",
        "while len(sifre) < 5 or len(sifre) > 10:\n",
        "  print(\"Lütfen girdiğiniz şifre 5 haneden az 10 haneden fazla olmasın!\")\n",
        "  sifre = input(\"Şifrenizi giriniz: \")\n",
        "\n",
        "print(\"Hesabınız oluşturuldu\")"
      ]
    },
    {
      "cell_type": "markdown",
      "id": "8ba81863",
      "metadata": {
        "id": "8ba81863"
      },
      "source": [
        "**Ödev-4:** Kullanıcıdan isim ve şifre isteyeceğiz ve şifre girişi için üç hak verilir.\n",
        "\n",
        "1. Eğer önceden tanımlı şifre ile kullanıcıdan gelen şifre aynıysa \"Giriş yapıldı.\" yazar.\n",
        "2. Şifre girişi yanlışsa \"Yanlış şifre girildi!\" uyarısı verilsin ve üç yanlış denemede program biter.\n",
        "3. Tercihe göre kalan hak bilgisi verilir."
      ]
    },
    {
      "cell_type": "code",
      "execution_count": 15,
      "id": "8f45ea0c",
      "metadata": {
        "id": "8f45ea0c",
        "outputId": "f38811f3-285d-4fef-9f25-04f1ba49ba4b",
        "colab": {
          "base_uri": "https://localhost:8080/"
        }
      },
      "outputs": [
        {
          "output_type": "stream",
          "name": "stdout",
          "text": [
            "Şifrenizi belirleyiniz: erman\n",
            "Şifrenizi giriniz: erman\n",
            "Giriş Yapıldı\n"
          ]
        }
      ],
      "source": [
        "sifre = input(\"Şifrenizi belirleyiniz: \")\n",
        "girisSifre = input(\"Şifrenizi giriniz: \")\n",
        "\n",
        "i = 0\n",
        "\n",
        "while i < 3:\n",
        "  if sifre == girisSifre:\n",
        "    print(\"Giriş Yapıldı\")\n",
        "    break\n",
        "\n",
        "  else:\n",
        "    print(\"Yanlış Şifre Girildi\")\n",
        "    i += 1\n",
        "    print(\"Kalan hakkınız \", 3 - i)\n",
        "    girisSifre = input(\"Şifrenizi Giriniz: \")"
      ]
    },
    {
      "cell_type": "code",
      "source": [],
      "metadata": {
        "id": "IXMr6YXlpXJA"
      },
      "id": "IXMr6YXlpXJA",
      "execution_count": null,
      "outputs": []
    }
  ],
  "metadata": {
    "kernelspec": {
      "display_name": "Python 3 (ipykernel)",
      "language": "python",
      "name": "python3"
    },
    "language_info": {
      "codemirror_mode": {
        "name": "ipython",
        "version": 3
      },
      "file_extension": ".py",
      "mimetype": "text/x-python",
      "name": "python",
      "nbconvert_exporter": "python",
      "pygments_lexer": "ipython3",
      "version": "3.9.12"
    },
    "colab": {
      "provenance": []
    }
  },
  "nbformat": 4,
  "nbformat_minor": 5
}